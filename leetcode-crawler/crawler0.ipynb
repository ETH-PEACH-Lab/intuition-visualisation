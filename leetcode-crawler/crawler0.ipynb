{
 "cells": [
  {
   "cell_type": "code",
   "execution_count": 59,
   "metadata": {},
   "outputs": [],
   "source": [
    "import csv\n",
    "import time\n",
    "import requests\n",
    "from selenium import webdriver\n",
    "from selenium.webdriver.chrome.service import Service\n",
    "from selenium.webdriver.chrome.options import Options\n",
    "from selenium.webdriver.common.by import By\n",
    "from selenium.webdriver.support.ui import WebDriverWait\n",
    "from selenium.webdriver.support import expected_conditions as EC\n",
    "from webdriver_manager.chrome import ChromeDriverManager"
   ]
  },
  {
   "cell_type": "code",
   "execution_count": 60,
   "metadata": {},
   "outputs": [],
   "source": [
    "def get_problem_slugs(limit=100):\n",
    "    url = \"https://leetcode.com/graphql\"\n",
    "    headers = {\n",
    "        'Content-Type': 'application/json',\n",
    "        'User-Agent': 'Mozilla/5.0 (Windows NT 10.0; Win64; x64) AppleWebKit/537.36 (KHTML, like Gecko) Chrome/91.0.4472.124 Safari/537.36',\n",
    "    }\n",
    "    query = {\n",
    "        \"query\": \"\\\n",
    "        query problemsetQuestionList($categorySlug: String, $limit: Int, $skip: Int, $filters: QuestionListFilterInput) { \\\n",
    "          problemsetQuestionList: questionList( \\\n",
    "            categorySlug: $categorySlug \\\n",
    "            limit: $limit \\\n",
    "            skip: $skip \\\n",
    "            filters: $filters \\\n",
    "          ) { \\\n",
    "            total: totalNum \\\n",
    "            questions: data { \\\n",
    "              titleSlug \\\n",
    "            } \\\n",
    "          } \\\n",
    "        }\",\n",
    "        \"variables\": {\n",
    "            \"categorySlug\": \"\",\n",
    "            \"skip\": 0,\n",
    "            \"limit\": limit,\n",
    "            \"filters\": {}\n",
    "        }\n",
    "    }\n",
    "    response = requests.post(url, headers=headers, json=query)\n",
    "    data = response.json()\n",
    "    slugs = [(q['titleSlug'], f\"https://leetcode.com/problems/{q['titleSlug']}/\") for q in data['data']['problemsetQuestionList']['questions']]\n",
    "    return slugs"
   ]
  },
  {
   "cell_type": "code",
   "execution_count": 61,
   "metadata": {},
   "outputs": [
    {
     "name": "stdout",
     "output_type": "stream",
     "text": [
      "('two-sum', 'https://leetcode.com/problems/two-sum/') /n\n",
      "('add-two-numbers', 'https://leetcode.com/problems/add-two-numbers/') /n\n",
      "('longest-substring-without-repeating-characters', 'https://leetcode.com/problems/longest-substring-without-repeating-characters/') /n\n",
      "('median-of-two-sorted-arrays', 'https://leetcode.com/problems/median-of-two-sorted-arrays/') /n\n",
      "('longest-palindromic-substring', 'https://leetcode.com/problems/longest-palindromic-substring/') /n\n",
      "('zigzag-conversion', 'https://leetcode.com/problems/zigzag-conversion/') /n\n",
      "('reverse-integer', 'https://leetcode.com/problems/reverse-integer/') /n\n",
      "('string-to-integer-atoi', 'https://leetcode.com/problems/string-to-integer-atoi/') /n\n",
      "('palindrome-number', 'https://leetcode.com/problems/palindrome-number/') /n\n",
      "('regular-expression-matching', 'https://leetcode.com/problems/regular-expression-matching/') /n\n"
     ]
    }
   ],
   "source": [
    "problem_sets = get_problem_slugs(10)\n",
    "for p in problem_sets:\n",
    "    print(p, '/n')"
   ]
  },
  {
   "cell_type": "code",
   "execution_count": 62,
   "metadata": {},
   "outputs": [],
   "source": [
    "def fetch_problem_details(slug, link, driver):\n",
    "    problem_data = {\n",
    "        \"name\": slug,\n",
    "        \"link\": link,\n",
    "        \"topics\": []\n",
    "    }\n",
    "    \n",
    "    description_url = link + \"description/\"\n",
    "    \n",
    "    # Fetch the problem description page\n",
    "    driver.get(description_url)\n",
    "    try:\n",
    "        # Wait for the page to load completely\n",
    "        WebDriverWait(driver, 30).until(EC.presence_of_element_located((By.TAG_NAME, \"body\")))\n",
    "        time.sleep(5)  # wait for the page to load\n",
    "\n",
    "        # Click the 'Topics' to expand the panel\n",
    "        try:\n",
    "            topics_button = WebDriverWait(driver, 10).until(\n",
    "                EC.element_to_be_clickable((By.XPATH, \"//div[contains(@class, 'inline-flex') and contains(text(), 'Topics')]\"))\n",
    "            )\n",
    "            driver.execute_script(\"arguments[0].click();\", topics_button)\n",
    "            time.sleep(2)  # wait for the panel to expand\n",
    "\n",
    "            # Extract topics\n",
    "            topic_div = WebDriverWait(driver, 10).until(\n",
    "                EC.presence_of_element_located((By.CSS_SELECTOR, \"div[class*='flex flex-wrap gap-1']\"))\n",
    "            )\n",
    "            topics = [topic.text for topic in topic_div.find_elements(By.TAG_NAME, 'a')]\n",
    "            problem_data['topics'] = topics\n",
    "        except Exception as e:\n",
    "            print(f\"Error fetching topics for {slug}: {e}\")\n",
    "            problem_data['topics'] = []\n",
    "\n",
    "    except Exception as e:\n",
    "        print(f\"Error fetching description data for {slug}: {e}\")\n",
    "\n",
    "    return problem_data"
   ]
  },
  {
   "cell_type": "code",
   "execution_count": 65,
   "metadata": {},
   "outputs": [],
   "source": [
    "def main():\n",
    "    options = Options()\n",
    "    options.headless = False  # Set to False to handle CAPTCHA manually\n",
    "    options.add_argument(\"--no-sandbox\")\n",
    "    options.add_argument(\"--disable-dev-shm-usage\")\n",
    "    options.add_argument(\"--disable-gpu\")\n",
    "    options.add_argument(\"--disable-extensions\")\n",
    "    options.add_argument(\"--disable-popup-blocking\")\n",
    "    options.add_argument(\"--incognito\")\n",
    "\n",
    "    service = Service(ChromeDriverManager().install())\n",
    "    driver = webdriver.Chrome(service=service, options=options)\n",
    "    \n",
    "    problem_slugs = get_problem_slugs(limit=5)  # Fetching the first 5 problems for testing\n",
    "    data = []\n",
    "\n",
    "    for i, (slug, link) in enumerate(problem_slugs, start=1):\n",
    "        print(f\"Fetching data for {i}. {slug}...\")\n",
    "        problem_data = fetch_problem_details(slug, link, driver)\n",
    "        problem_data['number'] = i\n",
    "        data.append(problem_data)\n",
    "    \n",
    "    # Close the browser\n",
    "    driver.quit()\n",
    "    \n",
    "    # Save data to CSV\n",
    "    csv_file = 'leetcode_problems.csv'\n",
    "    with open(csv_file, mode='w', newline='', encoding='utf-8') as file:\n",
    "        writer = csv.writer(file)\n",
    "        writer.writerow([\"Number\", \"Problem Name\", \"Problem Link\", \"Topics\"])\n",
    "        for row in data:\n",
    "            writer.writerow([row['number'], row['name'], row['link'], ', '.join(row['topics'])])\n",
    "    \n",
    "    print(f\"Data saved to {csv_file}\")"
   ]
  },
  {
   "cell_type": "code",
   "execution_count": 66,
   "metadata": {},
   "outputs": [
    {
     "name": "stdout",
     "output_type": "stream",
     "text": [
      "Fetching data for 1. two-sum...\n",
      "Fetching data for 2. add-two-numbers...\n",
      "Fetching data for 3. longest-substring-without-repeating-characters...\n",
      "Fetching data for 4. median-of-two-sorted-arrays...\n",
      "Fetching data for 5. longest-palindromic-substring...\n",
      "Data saved to leetcode_problems.csv\n"
     ]
    }
   ],
   "source": [
    "if __name__ == \"__main__\":\n",
    "    main()"
   ]
  }
 ],
 "metadata": {
  "kernelspec": {
   "display_name": "base",
   "language": "python",
   "name": "python3"
  },
  "language_info": {
   "codemirror_mode": {
    "name": "ipython",
    "version": 3
   },
   "file_extension": ".py",
   "mimetype": "text/x-python",
   "name": "python",
   "nbconvert_exporter": "python",
   "pygments_lexer": "ipython3",
   "version": "3.10.9"
  }
 },
 "nbformat": 4,
 "nbformat_minor": 2
}
